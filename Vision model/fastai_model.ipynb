{
 "cells": [
  {
   "cell_type": "code",
   "execution_count": 5,
   "id": "b44c3342-d270-4ae9-bb6b-0e1f28b34e7f",
   "metadata": {},
   "outputs": [],
   "source": [
    "#from fastai.vision.all import *\n",
    "import re\n",
    "import shutil\n",
    "from pathlib import Path"
   ]
  },
  {
   "cell_type": "code",
   "execution_count": 4,
   "id": "54c33ad7-21a0-4899-bbe6-e7fa646a2321",
   "metadata": {},
   "outputs": [
    {
     "name": "stdout",
     "output_type": "stream",
     "text": [
      "Requirement already satisfied: fastai==1.0.60 in /home/jovyan/.local/lib/python3.8/site-packages (1.0.60)\n",
      "Requirement already satisfied: spacy>=2.0.18 in /home/jovyan/.local/lib/python3.8/site-packages (from fastai==1.0.60) (3.4.2)\n",
      "Requirement already satisfied: fastprogress>=0.2.1 in /home/jovyan/.local/lib/python3.8/site-packages (from fastai==1.0.60) (1.0.3)\n",
      "Requirement already satisfied: packaging in /usr/local/lib/python3.8/dist-packages (from fastai==1.0.60) (21.3)\n",
      "Requirement already satisfied: bottleneck in /usr/local/lib/python3.8/dist-packages (from fastai==1.0.60) (1.3.4)\n",
      "Requirement already satisfied: numexpr in /usr/local/lib/python3.8/dist-packages (from fastai==1.0.60) (2.8.3)\n",
      "Requirement already satisfied: matplotlib in /usr/local/lib/python3.8/dist-packages (from fastai==1.0.60) (3.5.2)\n",
      "Requirement already satisfied: scipy in /usr/local/lib/python3.8/dist-packages (from fastai==1.0.60) (1.8.1)\n",
      "Requirement already satisfied: pandas in /usr/local/lib/python3.8/dist-packages (from fastai==1.0.60) (1.4.3)\n",
      "Requirement already satisfied: torchvision in /home/jovyan/.local/lib/python3.8/site-packages (from fastai==1.0.60) (0.13.1)\n",
      "Requirement already satisfied: torch>=1.0.0 in /home/jovyan/.local/lib/python3.8/site-packages (from fastai==1.0.60) (1.12.1)\n",
      "Requirement already satisfied: numpy>=1.15 in /usr/local/lib/python3.8/dist-packages (from fastai==1.0.60) (1.22.4)\n",
      "Requirement already satisfied: nvidia-ml-py3 in /home/jovyan/.local/lib/python3.8/site-packages (from fastai==1.0.60) (7.352.0)\n",
      "Requirement already satisfied: pyyaml in /usr/local/lib/python3.8/dist-packages (from fastai==1.0.60) (5.4.1)\n",
      "Requirement already satisfied: Pillow in /usr/local/lib/python3.8/dist-packages (from fastai==1.0.60) (9.1.1)\n",
      "Requirement already satisfied: beautifulsoup4 in /usr/local/lib/python3.8/dist-packages (from fastai==1.0.60) (4.11.1)\n",
      "Requirement already satisfied: requests in /usr/local/lib/python3.8/dist-packages (from fastai==1.0.60) (2.28.0)\n",
      "Requirement already satisfied: setuptools in /usr/lib/python3/dist-packages (from spacy>=2.0.18->fastai==1.0.60) (45.2.0)\n",
      "Requirement already satisfied: typer<0.5.0,>=0.3.0 in /home/jovyan/.local/lib/python3.8/site-packages (from spacy>=2.0.18->fastai==1.0.60) (0.4.2)\n",
      "Requirement already satisfied: jinja2 in /usr/local/lib/python3.8/dist-packages (from spacy>=2.0.18->fastai==1.0.60) (3.1.2)\n",
      "Requirement already satisfied: pydantic!=1.8,!=1.8.1,<1.11.0,>=1.7.4 in /home/jovyan/.local/lib/python3.8/site-packages (from spacy>=2.0.18->fastai==1.0.60) (1.10.2)\n",
      "Requirement already satisfied: preshed<3.1.0,>=3.0.2 in /home/jovyan/.local/lib/python3.8/site-packages (from spacy>=2.0.18->fastai==1.0.60) (3.0.8)\n",
      "Requirement already satisfied: thinc<8.2.0,>=8.1.0 in /home/jovyan/.local/lib/python3.8/site-packages (from spacy>=2.0.18->fastai==1.0.60) (8.1.5)\n",
      "Requirement already satisfied: cymem<2.1.0,>=2.0.2 in /home/jovyan/.local/lib/python3.8/site-packages (from spacy>=2.0.18->fastai==1.0.60) (2.0.7)\n",
      "Requirement already satisfied: tqdm<5.0.0,>=4.38.0 in /usr/local/lib/python3.8/dist-packages (from spacy>=2.0.18->fastai==1.0.60) (4.64.0)\n",
      "Requirement already satisfied: srsly<3.0.0,>=2.4.3 in /home/jovyan/.local/lib/python3.8/site-packages (from spacy>=2.0.18->fastai==1.0.60) (2.4.5)\n",
      "Requirement already satisfied: murmurhash<1.1.0,>=0.28.0 in /home/jovyan/.local/lib/python3.8/site-packages (from spacy>=2.0.18->fastai==1.0.60) (1.0.9)\n",
      "Requirement already satisfied: catalogue<2.1.0,>=2.0.6 in /home/jovyan/.local/lib/python3.8/site-packages (from spacy>=2.0.18->fastai==1.0.60) (2.0.8)\n",
      "Requirement already satisfied: wasabi<1.1.0,>=0.9.1 in /home/jovyan/.local/lib/python3.8/site-packages (from spacy>=2.0.18->fastai==1.0.60) (0.10.1)\n",
      "Requirement already satisfied: spacy-legacy<3.1.0,>=3.0.10 in /home/jovyan/.local/lib/python3.8/site-packages (from spacy>=2.0.18->fastai==1.0.60) (3.0.10)\n",
      "Requirement already satisfied: pathy>=0.3.5 in /home/jovyan/.local/lib/python3.8/site-packages (from spacy>=2.0.18->fastai==1.0.60) (0.6.2)\n",
      "Requirement already satisfied: langcodes<4.0.0,>=3.2.0 in /home/jovyan/.local/lib/python3.8/site-packages (from spacy>=2.0.18->fastai==1.0.60) (3.3.0)\n",
      "Requirement already satisfied: spacy-loggers<2.0.0,>=1.0.0 in /home/jovyan/.local/lib/python3.8/site-packages (from spacy>=2.0.18->fastai==1.0.60) (1.0.3)\n",
      "Requirement already satisfied: pyparsing!=3.0.5,>=2.0.2 in /usr/local/lib/python3.8/dist-packages (from packaging->fastai==1.0.60) (2.4.7)\n",
      "Requirement already satisfied: python-dateutil>=2.7 in /usr/local/lib/python3.8/dist-packages (from matplotlib->fastai==1.0.60) (2.8.2)\n",
      "Requirement already satisfied: fonttools>=4.22.0 in /usr/local/lib/python3.8/dist-packages (from matplotlib->fastai==1.0.60) (4.33.3)\n",
      "Requirement already satisfied: cycler>=0.10 in /usr/local/lib/python3.8/dist-packages (from matplotlib->fastai==1.0.60) (0.11.0)\n",
      "Requirement already satisfied: kiwisolver>=1.0.1 in /usr/local/lib/python3.8/dist-packages (from matplotlib->fastai==1.0.60) (1.4.3)\n",
      "Requirement already satisfied: pytz>=2020.1 in /usr/local/lib/python3.8/dist-packages (from pandas->fastai==1.0.60) (2022.1)\n",
      "Requirement already satisfied: typing-extensions in /usr/local/lib/python3.8/dist-packages (from torchvision->fastai==1.0.60) (4.2.0)\n",
      "Requirement already satisfied: soupsieve>1.2 in /usr/local/lib/python3.8/dist-packages (from beautifulsoup4->fastai==1.0.60) (2.3.2.post1)\n",
      "Requirement already satisfied: urllib3<1.27,>=1.21.1 in /usr/local/lib/python3.8/dist-packages (from requests->fastai==1.0.60) (1.26.9)\n",
      "Requirement already satisfied: charset-normalizer~=2.0.0 in /usr/local/lib/python3.8/dist-packages (from requests->fastai==1.0.60) (2.0.12)\n",
      "Requirement already satisfied: idna<4,>=2.5 in /usr/local/lib/python3.8/dist-packages (from requests->fastai==1.0.60) (3.3)\n",
      "Requirement already satisfied: certifi>=2017.4.17 in /usr/local/lib/python3.8/dist-packages (from requests->fastai==1.0.60) (2022.6.15)\n",
      "Requirement already satisfied: click<9.0.0,>=7.1.1 in /usr/local/lib/python3.8/dist-packages (from typer<0.5.0,>=0.3.0->spacy>=2.0.18->fastai==1.0.60) (8.1.3)\n",
      "Requirement already satisfied: MarkupSafe>=2.0 in /usr/local/lib/python3.8/dist-packages (from jinja2->spacy>=2.0.18->fastai==1.0.60) (2.1.1)\n",
      "Requirement already satisfied: blis<0.8.0,>=0.7.8 in /home/jovyan/.local/lib/python3.8/site-packages (from thinc<8.2.0,>=8.1.0->spacy>=2.0.18->fastai==1.0.60) (0.7.9)\n",
      "Requirement already satisfied: confection<1.0.0,>=0.0.1 in /home/jovyan/.local/lib/python3.8/site-packages (from thinc<8.2.0,>=8.1.0->spacy>=2.0.18->fastai==1.0.60) (0.0.3)\n",
      "Requirement already satisfied: smart-open<6.0.0,>=5.2.1 in /home/jovyan/.local/lib/python3.8/site-packages (from pathy>=0.3.5->spacy>=2.0.18->fastai==1.0.60) (5.2.1)\n",
      "Requirement already satisfied: six>=1.5 in /usr/local/lib/python3.8/dist-packages (from python-dateutil>=2.7->matplotlib->fastai==1.0.60) (1.16.0)\n",
      "Note: you may need to restart the kernel to use updated packages.\n"
     ]
    }
   ],
   "source": [
    "pip install fastai==1.0.60"
   ]
  },
  {
   "cell_type": "code",
   "execution_count": null,
   "id": "19efd10e-b1b8-445c-9191-7edd3a591368",
   "metadata": {},
   "outputs": [],
   "source": [
    "path = Path('/home/jovyan/cropmapping_open_datacube_dea/Vision model/CROPSMAR_19/')"
   ]
  },
  {
   "cell_type": "code",
   "execution_count": null,
   "id": "7d65e4b2-41ca-4d3f-a71a-ca822cb9674f",
   "metadata": {},
   "outputs": [],
   "source": [
    "blocks = DataBlock(blocks = (ImageBlock, CategoryBlock),\n",
    "                 get_items=get_image_files,\n",
    "                 splitter=RandomSplitter(seed=42),\n",
    "                 get_y=using_attr(RegexLabeller(r'(.+)_\\d+.jpg$'), 'name'),\n",
    "                 batch_tfms=aug_transforms(mult=2))"
   ]
  },
  {
   "cell_type": "code",
   "execution_count": null,
   "id": "b3153185-131c-41f8-a6b1-4828303a2817",
   "metadata": {},
   "outputs": [],
   "source": [
    "dls = blocks.dataloaders(path)"
   ]
  },
  {
   "cell_type": "code",
   "execution_count": null,
   "id": "f433411c-cef0-49fc-bb30-0c6fce1aba98",
   "metadata": {},
   "outputs": [],
   "source": [
    "blocks.summary(path)"
   ]
  },
  {
   "cell_type": "code",
   "execution_count": null,
   "id": "735d5d18-1b5d-434d-948b-ed7159f1a485",
   "metadata": {},
   "outputs": [],
   "source": [
    "dls.show_batch(nrows=1, ncols=5)"
   ]
  },
  {
   "cell_type": "code",
   "execution_count": null,
   "id": "733a78f8-cf9c-42dd-b134-a9a11bd331ec",
   "metadata": {},
   "outputs": [],
   "source": [
    "learn = cnn_learner(dls, resnet50, metrics=accuracy) \n",
    "learn.summary()"
   ]
  },
  {
   "cell_type": "code",
   "execution_count": null,
   "id": "4280f01b-45ed-41ed-b542-25ad2ecc1b68",
   "metadata": {},
   "outputs": [],
   "source": [
    "learn.fine_tune(20)"
   ]
  },
  {
   "cell_type": "code",
   "execution_count": null,
   "id": "b55daf17-41c1-4072-a5b2-c12b45c265d4",
   "metadata": {},
   "outputs": [],
   "source": [
    "interp = ClassificationInterpretation.from_learner(learn)\n",
    "interp.plot_confusion_matrix(figsize=(12,12), dpi=60)"
   ]
  },
  {
   "cell_type": "code",
   "execution_count": null,
   "id": "27926274-c0b1-4cf4-b59c-4548bcf1a283",
   "metadata": {},
   "outputs": [],
   "source": [
    "learn.export('cropsmar_model.pkl')\n",
    "learn_inf = load_learner('crops_mar_model.pkl')"
   ]
  }
 ],
 "metadata": {
  "kernelspec": {
   "display_name": "Python 3 (ipykernel)",
   "language": "python",
   "name": "python3"
  },
  "language_info": {
   "codemirror_mode": {
    "name": "ipython",
    "version": 3
   },
   "file_extension": ".py",
   "mimetype": "text/x-python",
   "name": "python",
   "nbconvert_exporter": "python",
   "pygments_lexer": "ipython3",
   "version": "3.8.10"
  }
 },
 "nbformat": 4,
 "nbformat_minor": 5
}
