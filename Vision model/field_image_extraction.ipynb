{
 "cells": [
  {
   "cell_type": "code",
   "execution_count": 1,
   "id": "53f4d196-4b77-4220-bb61-9a88d40f3d4a",
   "metadata": {},
   "outputs": [
    {
     "name": "stdout",
     "output_type": "stream",
     "text": [
      "['/home/jovyan/cropmapping_open_datacube_dea/Vision model', '/usr/lib/python38.zip', '/usr/lib/python3.8', '/usr/lib/python3.8/lib-dynload', '', '/home/jovyan/.local/lib/python3.8/site-packages', '/usr/local/lib/python3.8/dist-packages', '/usr/lib/python3/dist-packages', '/usr/local/lib/python3.8/dist-packages/IPython/extensions', '/home/jovyan/.ipython']\n"
     ]
    },
    {
     "name": "stderr",
     "output_type": "stream",
     "text": [
      "/usr/local/lib/python3.8/dist-packages/geopandas/_compat.py:112: UserWarning: The Shapely GEOS version (3.8.0-CAPI-1.13.1 ) is incompatible with the GEOS version PyGEOS was compiled with (3.10.1-CAPI-1.16.0). Conversions between both will be slow.\n",
      "  warnings.warn(\n",
      "/usr/local/lib/python3.8/dist-packages/dask/dataframe/utils.py:367: FutureWarning: pandas.Int64Index is deprecated and will be removed from pandas in a future version. Use pandas.Index with the appropriate dtype instead.\n",
      "  _numeric_index_types = (pd.Int64Index, pd.Float64Index, pd.UInt64Index)\n",
      "/usr/local/lib/python3.8/dist-packages/dask/dataframe/utils.py:367: FutureWarning: pandas.Float64Index is deprecated and will be removed from pandas in a future version. Use pandas.Index with the appropriate dtype instead.\n",
      "  _numeric_index_types = (pd.Int64Index, pd.Float64Index, pd.UInt64Index)\n",
      "/usr/local/lib/python3.8/dist-packages/dask/dataframe/utils.py:367: FutureWarning: pandas.UInt64Index is deprecated and will be removed from pandas in a future version. Use pandas.Index with the appropriate dtype instead.\n",
      "  _numeric_index_types = (pd.Int64Index, pd.Float64Index, pd.UInt64Index)\n"
     ]
    }
   ],
   "source": [
    "import sys\n",
    "print(sys.path)\n",
    "import geopandas as gpd\n",
    "%matplotlib inline\n",
    "\n",
    "import datacube\n",
    "import matplotlib.pyplot as plt\n",
    "from datacube.utils import geometry\n",
    "\n",
    "from deafrica_tools.datahandling import load_ard\n",
    "from deafrica_tools.bandindices import calculate_indices\n",
    "from deafrica_tools.plotting import rgb, map_shapefile\n",
    "from deafrica_tools.spatial import xr_rasterize\n",
    "from deafrica_tools.classification import HiddenPrints\n",
    "from deafrica_tools.dask import create_local_dask_cluster\n",
    "from odc.algo import geomedian_with_mads\n",
    "from deafrica_tools.bandindices import calculate_indices\n",
    "from PIL import Image"
   ]
  },
  {
   "cell_type": "code",
   "execution_count": 2,
   "id": "dec755ec-1ce8-4fad-bf31-3d958ff5079d",
   "metadata": {},
   "outputs": [
    {
     "data": {
      "text/html": [
       "<table style=\"border: 2px solid white;\">\n",
       "<tr>\n",
       "<td style=\"vertical-align: top; border: 0px solid white\">\n",
       "<h3 style=\"text-align: left;\">Client</h3>\n",
       "<ul style=\"text-align: left; list-style: none; margin: 0; padding: 0;\">\n",
       "  <li><b>Scheduler: </b>tcp://127.0.0.1:34013</li>\n",
       "  <li><b>Dashboard: </b><a href='/user/youssef.benallal@emines.um6p.ma/proxy/8787/status' target='_blank'>/user/youssef.benallal@emines.um6p.ma/proxy/8787/status</a></li>\n",
       "</ul>\n",
       "</td>\n",
       "<td style=\"vertical-align: top; border: 0px solid white\">\n",
       "<h3 style=\"text-align: left;\">Cluster</h3>\n",
       "<ul style=\"text-align: left; list-style:none; margin: 0; padding: 0;\">\n",
       "  <li><b>Workers: </b>1</li>\n",
       "  <li><b>Cores: </b>4</li>\n",
       "  <li><b>Memory: </b>28.14 GB</li>\n",
       "</ul>\n",
       "</td>\n",
       "</tr>\n",
       "</table>"
      ],
      "text/plain": [
       "<Client: 'tcp://127.0.0.1:34013' processes=1 threads=4, memory=28.14 GB>"
      ]
     },
     "metadata": {},
     "output_type": "display_data"
    }
   ],
   "source": [
    "create_local_dask_cluster()"
   ]
  },
  {
   "cell_type": "code",
   "execution_count": 2,
   "id": "329c20eb-8758-42a6-83b4-42d59c3bd38e",
   "metadata": {},
   "outputs": [],
   "source": [
    "dc = datacube.Datacube(app='Analyse_multiple_polygons')"
   ]
  },
  {
   "cell_type": "code",
   "execution_count": 3,
   "id": "8b35f68d-ec76-485f-aca0-54ddbc7b0eef",
   "metadata": {},
   "outputs": [
    {
     "data": {
      "text/plain": [
       "{'time': ('2019-02', '2019-04'),\n",
       " 'measurements': ['red', 'green', 'blue', 'nir'],\n",
       " 'resolution': (-10, 10),\n",
       " 'output_crs': 'EPSG:6933'}"
      ]
     },
     "execution_count": 3,
     "metadata": {},
     "output_type": "execute_result"
    }
   ],
   "source": [
    "time_range = ('2019-02', '2019-04')\n",
    "\n",
    "vector_file = '/home/jovyan/cropmapping_open_datacube_dea/Numeric data models/data/crop_vectors_v4.geojson'\n",
    "attribute_col = 'id'\n",
    "\n",
    "products = ['s2_l2a']\n",
    "measurements = ['red', 'green', 'blue', 'nir']\n",
    "resolution = (-10, 10)\n",
    "output_crs = 'EPSG:6933'\n",
    "\n",
    "\n",
    "query = {'time': time_range,\n",
    "         'measurements': measurements,\n",
    "         'resolution': resolution,\n",
    "         'output_crs': output_crs,\n",
    "         }\n",
    "\n",
    "query"
   ]
  },
  {
   "cell_type": "code",
   "execution_count": 4,
   "id": "d452bdc6-8480-42d5-9d38-be8126cdf7ed",
   "metadata": {},
   "outputs": [],
   "source": [
    "crop_vectors = gpd.read_file(vector_file)\n",
    "gdf = crop_vectors[(~crop_vectors['culture'].isin(['blé tendre', 'blé dur', 'orge'])) & (crop_vectors['area']>8)].reset_index(drop=True)\n",
    "gdf['id'] = gdf.index"
   ]
  },
  {
   "cell_type": "code",
   "execution_count": 5,
   "id": "7d5e2b88-497f-4ef2-860a-83e05c1deb65",
   "metadata": {},
   "outputs": [
    {
     "name": "stdout",
     "output_type": "stream",
     "text": [
      " Feature 01/13\r"
     ]
    },
    {
     "name": "stderr",
     "output_type": "stream",
     "text": [
      "/home/jovyan/.local/lib/python3.8/site-packages/deafrica_tools/datahandling.py:238: UserWarning: Setting 'min_gooddata' percentage to > 0.0 will cause dask arrays to compute when loading pixel-quality data to calculate 'good pixel' percentage. This can slow the return of your dataset.\n",
      "  warnings.warn(\n"
     ]
    },
    {
     "name": "stdout",
     "output_type": "stream",
     "text": [
      " Feature 02/13\r"
     ]
    },
    {
     "name": "stderr",
     "output_type": "stream",
     "text": [
      "/home/jovyan/.local/lib/python3.8/site-packages/deafrica_tools/datahandling.py:238: UserWarning: Setting 'min_gooddata' percentage to > 0.0 will cause dask arrays to compute when loading pixel-quality data to calculate 'good pixel' percentage. This can slow the return of your dataset.\n",
      "  warnings.warn(\n"
     ]
    },
    {
     "name": "stdout",
     "output_type": "stream",
     "text": [
      " Feature 03/13\r"
     ]
    },
    {
     "name": "stderr",
     "output_type": "stream",
     "text": [
      "/home/jovyan/.local/lib/python3.8/site-packages/deafrica_tools/datahandling.py:238: UserWarning: Setting 'min_gooddata' percentage to > 0.0 will cause dask arrays to compute when loading pixel-quality data to calculate 'good pixel' percentage. This can slow the return of your dataset.\n",
      "  warnings.warn(\n"
     ]
    },
    {
     "name": "stdout",
     "output_type": "stream",
     "text": [
      " Feature 04/13\r"
     ]
    },
    {
     "name": "stderr",
     "output_type": "stream",
     "text": [
      "/home/jovyan/.local/lib/python3.8/site-packages/deafrica_tools/datahandling.py:238: UserWarning: Setting 'min_gooddata' percentage to > 0.0 will cause dask arrays to compute when loading pixel-quality data to calculate 'good pixel' percentage. This can slow the return of your dataset.\n",
      "  warnings.warn(\n"
     ]
    },
    {
     "name": "stdout",
     "output_type": "stream",
     "text": [
      " Feature 05/13\r"
     ]
    },
    {
     "name": "stderr",
     "output_type": "stream",
     "text": [
      "/home/jovyan/.local/lib/python3.8/site-packages/deafrica_tools/datahandling.py:238: UserWarning: Setting 'min_gooddata' percentage to > 0.0 will cause dask arrays to compute when loading pixel-quality data to calculate 'good pixel' percentage. This can slow the return of your dataset.\n",
      "  warnings.warn(\n"
     ]
    },
    {
     "name": "stdout",
     "output_type": "stream",
     "text": [
      " Feature 06/13\r"
     ]
    },
    {
     "name": "stderr",
     "output_type": "stream",
     "text": [
      "/home/jovyan/.local/lib/python3.8/site-packages/deafrica_tools/datahandling.py:238: UserWarning: Setting 'min_gooddata' percentage to > 0.0 will cause dask arrays to compute when loading pixel-quality data to calculate 'good pixel' percentage. This can slow the return of your dataset.\n",
      "  warnings.warn(\n"
     ]
    },
    {
     "name": "stdout",
     "output_type": "stream",
     "text": [
      " Feature 07/13\r"
     ]
    },
    {
     "name": "stderr",
     "output_type": "stream",
     "text": [
      "/home/jovyan/.local/lib/python3.8/site-packages/deafrica_tools/datahandling.py:238: UserWarning: Setting 'min_gooddata' percentage to > 0.0 will cause dask arrays to compute when loading pixel-quality data to calculate 'good pixel' percentage. This can slow the return of your dataset.\n",
      "  warnings.warn(\n"
     ]
    },
    {
     "name": "stdout",
     "output_type": "stream",
     "text": [
      " Feature 08/13\r"
     ]
    },
    {
     "name": "stderr",
     "output_type": "stream",
     "text": [
      "/home/jovyan/.local/lib/python3.8/site-packages/deafrica_tools/datahandling.py:238: UserWarning: Setting 'min_gooddata' percentage to > 0.0 will cause dask arrays to compute when loading pixel-quality data to calculate 'good pixel' percentage. This can slow the return of your dataset.\n",
      "  warnings.warn(\n"
     ]
    },
    {
     "name": "stdout",
     "output_type": "stream",
     "text": [
      " Feature 09/13\r"
     ]
    },
    {
     "name": "stderr",
     "output_type": "stream",
     "text": [
      "/home/jovyan/.local/lib/python3.8/site-packages/deafrica_tools/datahandling.py:238: UserWarning: Setting 'min_gooddata' percentage to > 0.0 will cause dask arrays to compute when loading pixel-quality data to calculate 'good pixel' percentage. This can slow the return of your dataset.\n",
      "  warnings.warn(\n"
     ]
    },
    {
     "name": "stdout",
     "output_type": "stream",
     "text": [
      " Feature 10/13\r"
     ]
    },
    {
     "name": "stderr",
     "output_type": "stream",
     "text": [
      "/home/jovyan/.local/lib/python3.8/site-packages/deafrica_tools/datahandling.py:238: UserWarning: Setting 'min_gooddata' percentage to > 0.0 will cause dask arrays to compute when loading pixel-quality data to calculate 'good pixel' percentage. This can slow the return of your dataset.\n",
      "  warnings.warn(\n"
     ]
    },
    {
     "name": "stdout",
     "output_type": "stream",
     "text": [
      " Feature 11/13\r"
     ]
    },
    {
     "name": "stderr",
     "output_type": "stream",
     "text": [
      "/home/jovyan/.local/lib/python3.8/site-packages/deafrica_tools/datahandling.py:238: UserWarning: Setting 'min_gooddata' percentage to > 0.0 will cause dask arrays to compute when loading pixel-quality data to calculate 'good pixel' percentage. This can slow the return of your dataset.\n",
      "  warnings.warn(\n"
     ]
    },
    {
     "name": "stdout",
     "output_type": "stream",
     "text": [
      " Feature 12/13\r"
     ]
    },
    {
     "name": "stderr",
     "output_type": "stream",
     "text": [
      "/home/jovyan/.local/lib/python3.8/site-packages/deafrica_tools/datahandling.py:238: UserWarning: Setting 'min_gooddata' percentage to > 0.0 will cause dask arrays to compute when loading pixel-quality data to calculate 'good pixel' percentage. This can slow the return of your dataset.\n",
      "  warnings.warn(\n"
     ]
    },
    {
     "name": "stdout",
     "output_type": "stream",
     "text": [
      " Feature 13/13\r"
     ]
    },
    {
     "name": "stderr",
     "output_type": "stream",
     "text": [
      "/home/jovyan/.local/lib/python3.8/site-packages/deafrica_tools/datahandling.py:238: UserWarning: Setting 'min_gooddata' percentage to > 0.0 will cause dask arrays to compute when loading pixel-quality data to calculate 'good pixel' percentage. This can slow the return of your dataset.\n",
      "  warnings.warn(\n"
     ]
    }
   ],
   "source": [
    "# Dictionary to save results \n",
    "results = {}\n",
    "\n",
    "# A progress indicator\n",
    "i = 0\n",
    "\n",
    "# Loop through polygons in geodataframe and extract satellite data\n",
    "for index, row in gdf.iterrows():\n",
    "    \n",
    "    print(\" Feature {:02}/{:02}\\r\".format(i + 1, len(gdf)),\n",
    "                  end='')\n",
    "    \n",
    "    # Get the geometry\n",
    "    geom = geometry.Geometry(row.geometry.__geo_interface__,\n",
    "                             geometry.CRS(f'EPSG:{gdf.crs.to_epsg()}'))\n",
    "    \n",
    "    # Update dc query with geometry      \n",
    "    query.update({'geopolygon': geom}) \n",
    "    \n",
    "    # Load landsat (hide print statements)\n",
    "    with HiddenPrints():\n",
    "        ds = load_ard(dc=dc, \n",
    "              products=products,\n",
    "              min_gooddata=0.75,                  \n",
    "              group_by='solar_day',\n",
    "              dask_chunks={'x':50, 'y':50},\n",
    "              **query)\n",
    "        ds = calculate_indices(ds, index=['NDVI'], satellite_mission='s2')\n",
    "        ds = geomedian_with_mads(ds, compute_mads=True, compute_count=False).compute()\n",
    "\n",
    "    # Generate a polygon mask to keep only data within the polygon\n",
    "    with HiddenPrints():\n",
    "        mask = xr_rasterize(gdf.iloc[[index]], ds)\n",
    "    \n",
    "    # Mask dataset to set pixels outside the polygon to `NaN`\n",
    "    ds = ds.where(mask)\n",
    "    \n",
    "    # Append results to a dictionary using the attribute\n",
    "    # column as an key\n",
    "    results.update({str(row[attribute_col]) : ds})\n",
    "    \n",
    "    # Update counter\n",
    "    i += 1"
   ]
  },
  {
   "cell_type": "code",
   "execution_count": 6,
   "id": "fb54ed8e-dd7f-4fbc-970c-dfdb00566044",
   "metadata": {},
   "outputs": [],
   "source": [
    "from typing import Tuple\n",
    "from typing import Union\n",
    "from typing import Optional\n",
    "import odc.ui\n",
    "from odc.ui import to_png_data\n",
    "from odc.ui import mk_data_uri\n",
    "from odc.ui import to_jpeg_data\n",
    "from odc.algo import to_rgba, is_rgb\n",
    "import xarray as xr\n",
    "\n",
    "def xr_bounds(x, crs=None) -> Tuple[Tuple[float, float], Tuple[float, float]]:\n",
    "\n",
    "    def get_range(a: np.ndarray) -> Tuple[float, float]:\n",
    "        b = (a[1] - a[0]) * 0.5\n",
    "        return a[0] - b, a[-1] + b\n",
    "\n",
    "    if \"latitude\" in x.coords:\n",
    "        r1, r2 = (get_range(a.values) for a in (x.latitude, x.longitude))\n",
    "        p1, p2 = ((r1[i], r2[i]) for i in (0, 1))\n",
    "        return p1, p2\n",
    "\n",
    "    if crs is None:\n",
    "        geobox = getattr(x, \"geobox\", None)\n",
    "        if geobox:\n",
    "            crs = geobox.crs\n",
    "\n",
    "    if crs is None:\n",
    "        raise ValueError(\"Need to supply CRS or use latitude/longitude coords\")\n",
    "\n",
    "    if not all(d in x.coords for d in crs.dimensions):\n",
    "        raise ValueError(\"Incompatible CRS supplied\")\n",
    "\n",
    "    (t, b), (l, r) = (get_range(x.coords[dim].values) for dim in crs.dimensions)\n",
    "\n",
    "    l, b, r, t = box(l, b, r, t, crs).to_crs(epsg4326).boundingbox\n",
    "    return ((t, r), (b, l))\n",
    "\n",
    "\n",
    "\n",
    "def mk_image_overlay(\n",
    "    xx: Union[xr.Dataset, xr.DataArray],\n",
    "    clamp: Optional[float] = None,\n",
    "    bands: Optional[Tuple[str, str, str]] = None,\n",
    "    layer_name=\"Image\",\n",
    "    fmt=\"png\",\n",
    "    **opts\n",
    "):\n",
    "    \"\"\"Create ipyleaflet.ImageLayer from raster data.\n",
    "    xx - xarray.Dataset that will be converted to RGBA or\n",
    "         xarray.DataArray that is already in RGB(A) format\n",
    "    clamp, bands -- passed on to to_rgba(..), only used when xx is xarray.Dataset\n",
    "    Returns\n",
    "    =======\n",
    "    ipyleaflet.ImageOverlay or a list of them one per time slice\n",
    "    \"\"\"\n",
    "\n",
    "    comp, mime = dict(\n",
    "        png=(to_png_data, \"image/png\"),\n",
    "        jpg=(to_jpeg_data, \"image/jpeg\"),\n",
    "        jpeg=(to_jpeg_data, \"image/jpeg\"),\n",
    "    ).get(fmt.lower(), (None, None))\n",
    "\n",
    "    if comp is None or mime is None:\n",
    "        raise ValueError(\"Only support png an jpeg formats\")\n",
    "\n",
    "    if \"time\" in xx.dims:\n",
    "        nt = xx.time.shape[0]\n",
    "        if nt == 1:\n",
    "            xx = xx.isel(time=0)\n",
    "        else:\n",
    "            return [\n",
    "                mk_image_overlay(\n",
    "                    xx.isel(time=t),\n",
    "                    clamp=clamp,\n",
    "                    bands=bands,\n",
    "                    layer_name=\"{}-{}\".format(layer_name, t),\n",
    "                    fmt=fmt,\n",
    "                    **opts\n",
    "                )\n",
    "                for t in range(nt)\n",
    "            ]\n",
    "\n",
    "    if isinstance(xx, xr.Dataset):\n",
    "        rgba = to_rgba(xx, clamp=clamp, bands=bands)\n",
    "    else:\n",
    "        if not is_rgb(xx):\n",
    "            raise ValueError(\"Expect RGB xr.DataArray\")\n",
    "        rgba = xx\n",
    "\n",
    "    im_url = mk_data_uri(comp(rgba.values, **opts), mime)\n",
    "    return im_url, rgba"
   ]
  },
  {
   "cell_type": "code",
   "execution_count": 124,
   "id": "af6512e6-865a-496e-9fb1-c834ce9b4c2a",
   "metadata": {},
   "outputs": [
    {
     "data": {
      "image/png": "[encoded data removed]",
      "text/plain": [
       "<PIL.Image.Image image mode=RGBA size=100x100>"
      ]
     },
     "metadata": {},
     "output_type": "display_data"
    },
    {
     "data": {
      "image/png": "[encoded data removed]",
      "text/plain": [
       "<PIL.Image.Image image mode=RGBA size=100x100>"
      ]
     },
     "metadata": {},
     "output_type": "display_data"
    }
   ],
   "source": [
    "im_layer = mk_image_overlay(results['9'], clamp=900, bands=['red', 'green', 'blue'] , fmt='png')\n",
    "im_layer_ = mk_image_overlay(results['9'], clamp=900, bands=['nir', 'green', 'blue'] , fmt='png')\n",
    "im_rgb  = Image.fromarray(im_layer[1].values)\n",
    "im_nir  = Image.fromarray(im_layer_[1].values)\n",
    "display(im_rgb.resize((100, 100)), im_nir.resize((100, 100)))"
   ]
  },
  {
   "cell_type": "code",
   "execution_count": 139,
   "id": "2433fa84-30f3-4476-bc76-e9c2491027d7",
   "metadata": {},
   "outputs": [
    {
     "data": {
      "image/png": "[encoded data removed]",
      "text/plain": [
       "<PIL.Image.Image image mode=RGBA size=100x100>"
      ]
     },
     "metadata": {},
     "output_type": "display_data"
    },
    {
     "data": {
      "image/png": "[encoded data removed]",
      "text/plain": [
       "<PIL.Image.Image image mode=RGBA size=100x100>"
      ]
     },
     "metadata": {},
     "output_type": "display_data"
    }
   ],
   "source": [
    "im_layer = mk_image_overlay(results['81'], clamp=900, bands=['red', 'green', 'blue'] , fmt='png')\n",
    "im_layer_ = mk_image_overlay(results['81'], clamp=900, bands=['NDVI', 'green', 'blue'] , fmt='png')\n",
    "im_rgb  = Image.fromarray(im_layer[1].values)\n",
    "im_nir  = Image.fromarray(im_layer_[1].values)\n",
    "display(im_rgb.resize((100, 100)), im_nir.resize((100, 100)))"
   ]
  },
  {
   "cell_type": "code",
   "execution_count": null,
   "id": "9e52b3b0-1c16-4648-b9a7-e3458b41ab3d",
   "metadata": {},
   "outputs": [],
   "source": [
    "base_folder = '/home/jovyan/cropmapping_open_datacube_dea/Vision model/CROPSMAR_19/Wheat/'\n",
    "for i in results.keys():\n",
    "    Image.fromarray(mk_image_overlay(results['{}'.format(i)], clamp=900, bands=['red', 'green', 'blue'] , fmt='png')[1].values).resize((80, 80)).save(base_folder + \"wheat_{}.png\".format(i))"
   ]
  },
  {
   "cell_type": "code",
   "execution_count": 8,
   "id": "6daf061d-76e5-421d-8ea9-503b8a6bb5c2",
   "metadata": {},
   "outputs": [],
   "source": [
    "base_folder = '/home/jovyan/cropmapping_open_datacube_dea/Vision model/CROPSMAR_19/Non_wheat/'\n",
    "for i in results.keys():\n",
    "    Image.fromarray(mk_image_overlay(results['{}'.format(i)], clamp=900, bands=['red', 'green', 'blue'] , fmt='png')[1].values).resize((80, 80)).save(base_folder + \"non_wheat_{}.png\".format(i))"
   ]
  }
 ],
 "metadata": {
  "kernelspec": {
   "display_name": "Python 3 (ipykernel)",
   "language": "python",
   "name": "python3"
  },
  "language_info": {
   "codemirror_mode": {
    "name": "ipython",
    "version": 3
   },
   "file_extension": ".py",
   "mimetype": "text/x-python",
   "name": "python",
   "nbconvert_exporter": "python",
   "pygments_lexer": "ipython3",
   "version": "3.8.10"
  }
 },
 "nbformat": 4,
 "nbformat_minor": 5
}
