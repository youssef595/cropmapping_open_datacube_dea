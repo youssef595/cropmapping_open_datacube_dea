{
 "cells": [
  {
   "cell_type": "code",
   "execution_count": 1,
   "id": "871f9da3-f877-421c-995f-bcf626e0d6b8",
   "metadata": {},
   "outputs": [
    {
     "name": "stderr",
     "output_type": "stream",
     "text": [
      "/usr/local/lib/python3.8/dist-packages/geopandas/_compat.py:112: UserWarning: The Shapely GEOS version (3.8.0-CAPI-1.13.1 ) is incompatible with the GEOS version PyGEOS was compiled with (3.10.1-CAPI-1.16.0). Conversions between both will be slow.\n",
      "  warnings.warn(\n"
     ]
    }
   ],
   "source": [
    "import datacube\n",
    "from datacube.utils import geometry\n",
    "import odc.ui\n",
    "from odc.ui import to_png_data\n",
    "from odc.ui import mk_data_uri\n",
    "from odc.ui import to_jpeg_data\n",
    "from odc.algo import to_rgba, is_rgb\n",
    "import xarray as xr\n",
    "\n",
    "#dea tools\n",
    "from deafrica_tools.plotting import display_map, rgb\n",
    "from deafrica_tools.bandindices import calculate_indices\n",
    "from deafrica_tools.datahandling import load_ard\n",
    "from deafrica_tools.plotting import map_shapefile\n",
    "from deafrica_tools.dask import create_local_dask_cluster\n",
    "\n",
    "#geodata plotting\n",
    "import matplotlib.pyplot as plt\n",
    "import geopandas as gpd\n",
    "import pandas as pd\n",
    "\n",
    "#map\n",
    "import folium\n",
    "import leafmap.foliumap as leafmapfol\n",
    "import leafmap\n",
    "from ipyleaflet import Map, basemaps\n",
    "from ipywidgets import widgets as w\n",
    "import ipyleaflet\n",
    "\n",
    "#typing\n",
    "from typing import Tuple\n",
    "from typing import Union\n",
    "from typing import Optional\n",
    "\n",
    "#streamlit\n",
    "#from streamlit_folium import folium_static\n",
    "#import streamlit as st\n",
    "#from streamlit_option_menu import option_menu\n",
    "from datacube.utils import geometry\n",
    "from deafrica_tools.dask import create_local_dask_cluster\n",
    "#from st_btn_select import st_btn_select\n",
    "\n",
    "#text\n",
    "#from annotated_text import annotated_text\n",
    "\n",
    "#time\n",
    "import datetime\n",
    "import time\n",
    "\n",
    "#image\n",
    "from PIL import Image\n",
    "import numpy as np\n",
    "\n",
    "#modeling\n",
    "import itertools\n",
    "import joblib\n",
    "from deafrica_tools.classification import predict_xr\n",
    "from deafrica_tools.spatial import xr_rasterize\n",
    "\n",
    "from predictions_tomap import *\n",
    "import sys\n",
    "sys.path.append('./Numeric data models/')\n",
    "#print(sys.path)\n",
    "from feature_layers import *\n",
    "import json"
   ]
  },
  {
   "cell_type": "code",
   "execution_count": 2,
   "id": "3eb7a2ac-af90-444d-a233-229c2155f2e5",
   "metadata": {},
   "outputs": [],
   "source": [
    "dc = datacube.Datacube(app='predictions_tomap')"
   ]
  },
  {
   "cell_type": "code",
   "execution_count": 3,
   "id": "720a4c56-e049-4695-b7f2-b8f2a1e52e34",
   "metadata": {},
   "outputs": [],
   "source": [
    "year = '2020'\n",
    "input_polygon = gpd.read_file('tadla_test.geojson')\n",
    "input_polygon['id'] = input_polygon.index\n",
    "geom = geometry.Geometry(input_polygon.iloc[0].geometry.__geo_interface__,geometry.CRS(f'EPSG:{input_polygon.crs.to_epsg()}'))\n",
    "lon1, lat1, lon2, lat2 = input_polygon.total_bounds\n",
    "lon = (lon1 + lon2) / 2\n",
    "lat = (lat1 + lat2) / 2"
   ]
  },
  {
   "cell_type": "code",
   "execution_count": 4,
   "id": "dcb7bfff-54f6-4a12-b4f8-7c1df6530c3b",
   "metadata": {},
   "outputs": [],
   "source": [
    "model_gm_1 = joblib.load('/home/jovyan/cropmapping_open_datacube_dea/Models/rf_gm_1.joblib')\n",
    "features_gm_1 =  ['blue_S1_n',\n",
    "                 'green_S1_n',\n",
    "                 'red_S1_n',\n",
    "                 'nir_S1_n',\n",
    "                 'swir_1_S1_n',\n",
    "                 'swir_2_S1_n',\n",
    "                 'red_edge_1_S1_n',\n",
    "                 'red_edge_2_S1_n',\n",
    "                 'red_edge_3_S1_n',\n",
    "                 'sdev_S1_n',\n",
    "                 'bcdev_S1_n',\n",
    "                 'edev_S1_n',\n",
    "                 'NDVI_S1_n',\n",
    "                 'SAVI_S1_n',\n",
    "                 'NDMI_S1_n',\n",
    "                 'blue_S2_n',\n",
    "                 'green_S2_n',\n",
    "                 'red_S2_n',\n",
    "                 'nir_S2_n',\n",
    "                 'swir_1_S2_n',\n",
    "                 'swir_2_S2_n',\n",
    "                 'red_edge_1_S2_n',\n",
    "                 'sdev_S2_n',\n",
    "                 'bcdev_S2_n',\n",
    "                 'edev_S2_n',\n",
    "                 'NDVI_S2_n',\n",
    "                 'NDMI_S2_n']"
   ]
  },
  {
   "cell_type": "code",
   "execution_count": 5,
   "id": "e0ccd1df-0336-41ed-ac0a-0c98c0bbb365",
   "metadata": {},
   "outputs": [],
   "source": [
    "queries = json.load(open('/home/jovyan/cropmapping_open_datacube_dea/Numeric data models/models_prediction_data_queries.json'))\n",
    "queries['query_gm_1'].update({'geopolygon': geom})\n",
    "queries['query_gm_1'].update({'time': year})"
   ]
  },
  {
   "cell_type": "code",
   "execution_count": 6,
   "id": "ead6d1b0-8676-4a8c-8d80-6edfb34ff7ac",
   "metadata": {},
   "outputs": [],
   "source": [
    "predict_input = gm_1(queries['query_gm_1'])\n",
    "predict_input = predict_input[features_gm_1]"
   ]
  },
  {
   "cell_type": "code",
   "execution_count": 7,
   "id": "0ae68efb-cdb5-416b-9f50-26edd140e1d3",
   "metadata": {},
   "outputs": [
    {
     "name": "stdout",
     "output_type": "stream",
     "text": [
      "predicting...\n",
      "   input features...\n"
     ]
    }
   ],
   "source": [
    "predicted = predict_xr(model_gm_1,\n",
    "                       predict_input,\n",
    "                       #proba=True,\n",
    "                       clean=True,\n",
    "                       #persist=True,\n",
    "                       return_input=True)"
   ]
  },
  {
   "cell_type": "code",
   "execution_count": 8,
   "id": "bdb0bf22-2ec3-4cd0-b866-89f7948e3b44",
   "metadata": {},
   "outputs": [],
   "source": [
    "#agri_geom_masking\n",
    "agri_mask = dc.load(product='crop_mask_northern', time=('2019'), like=predict_input.geobox).filtered.squeeze()\n",
    "predicted = predicted.where(agri_mask==1)\n",
    "geom_mask = xr_rasterize(input_polygon.iloc[[0]], predicted)\n",
    "predicted = predicted.where(geom_mask)"
   ]
  },
  {
   "cell_type": "code",
   "execution_count": 9,
   "id": "5464f3aa-2447-406b-8c0b-7a02798610fb",
   "metadata": {},
   "outputs": [],
   "source": [
    "im_layer_1 = mk_image_overlay(predicted.where(predicted.Predictions==1), clamp=900, bands=['red_S1_n', 'blue_S1_n', 'green_S1_n'] , fmt='png')"
   ]
  },
  {
   "cell_type": "code",
   "execution_count": 10,
   "id": "a1d3cce3-75ba-4b5e-86ba-b4bfff30da52",
   "metadata": {},
   "outputs": [],
   "source": [
    "for y, x in itertools.product(range(im_layer_1[1].values.shape[0]), range(im_layer_1[1].values.shape[1])):\n",
    "    if im_layer_1[1].values[y,x,3:][0] == 255:\n",
    "        im_layer_1[1].values[y,x] = np.array([188,181,164,255])\n",
    "    else:\n",
    "        im_layer_1[1].values[y,x] = np.array([0,0,0,0])"
   ]
  },
  {
   "cell_type": "code",
   "execution_count": 11,
   "id": "53bf2d4e-61c5-43a9-b789-e13577a00002",
   "metadata": {},
   "outputs": [],
   "source": [
    "im_1 = Image.fromarray(im_layer_1[1].values)\n",
    "im_1.save(\"im_1.png\")"
   ]
  },
  {
   "cell_type": "code",
   "execution_count": 17,
   "id": "2b7c74da-1b1f-4ade-a11e-e6b9e2803228",
   "metadata": {},
   "outputs": [
    {
     "data": {
      "application/vnd.jupyter.widget-view+json": {
       "model_id": "741eb567fc86478a8e759a9af45880df",
       "version_major": 2,
       "version_minor": 0
      },
      "text/plain": [
       "Map(center=[-6.907138824462891, 32.267752027456744], controls=(ZoomControl(options=['position', 'zoom_in_text'…"
      ]
     },
     "metadata": {},
     "output_type": "display_data"
    }
   ],
   "source": [
    "m = leafmap.Map(basemap=basemaps.Esri.WorldImagery, center=(lon,lat), zoom=12, layout=w.Layout(width='1000px', height='500px'), layer_control=True)\n",
    "image_1 = leafmap.ImageOverlay(url=\"im_1.png\", bounds=xr_bounds(im_layer_1[1]), name='soft_wheat')\n",
    "m.add_gdf(input_polygon, layer_name=\"AOI\")\n",
    "m.add_layer(image_1)\n",
    "m"
   ]
  },
  {
   "cell_type": "code",
   "execution_count": null,
   "id": "9022e293-a600-4acd-a250-a89d402386f3",
   "metadata": {},
   "outputs": [],
   "source": [
    "\n",
    "\n",
    "                \n",
    "                #im_layer = []\n",
    "                #for i in range(len(crops)):\n",
    "                    #im_layer.append(mk_image_overlay(predicted.where(predicted.Predictions==i), clamp=900,bands=['red_S1', 'blue_S1', 'green_S1'] , fmt='png'))\n",
    "                im_layer0 = mk_image_overlay(predicted.where(predicted.Predictions==0), clamp=900, bands=['red_S1', 'blue_S1', 'green_S1'] , fmt='png')\n",
    "                im_layer1 = mk_image_overlay(predicted.where(predicted.Predictions==1), clamp=900, bands=['red_S1', 'blue_S1', 'green_S1'] , fmt='png')\n",
    "                im_layer5 = mk_image_overlay(predicted.where(predicted.Predictions==5), clamp=900, bands=['red_S1', 'blue_S1', 'green_S1'] , fmt='png')\n",
    "                im_layer8 = mk_image_overlay(predicted.where(predicted.Predictions==8), clamp=900, bands=['red_S1', 'blue_S1', 'green_S1'] , fmt='png')\n",
    "\n",
    "                for y, x in itertools.product(range(im_layer0[1].values.shape[0]), range(im_layer0[1].values.shape[1])):\n",
    "                    if im_layer0[1].values[y,x,3:][0] == 255:\n",
    "                        im_layer0[1].values[y,x] = np.array([188,181,164,255])\n",
    "                    else:\n",
    "                        im_layer0[1].values[y,x] = np.array([0,0,0,0])\n",
    "                \n",
    "                for y, x in itertools.product(range(im_layer1[1].values.shape[0]), range(im_layer1[1].values.shape[1])):\n",
    "                    if im_layer1[1].values[y,x,3:][0] == 255:\n",
    "                        im_layer1[1].values[y,x] = np.array([255,255,0,255])\n",
    "                    else:\n",
    "                        im_layer1[1].values[y,x] = np.array([0,0,0,0])\n",
    "                \n",
    "                for y, x in itertools.product(range(im_layer5[1].values.shape[0]), range(im_layer5[1].values.shape[1])):\n",
    "                    if im_layer5[1].values[y,x,3:][0] == 255:\n",
    "                        im_layer5[1].values[y,x] = np.array([123,114,91,255])\n",
    "                    else:\n",
    "                        im_layer5[1].values[y,x] = np.array([0,0,0,0])\n",
    "                \n",
    "                for y, x in itertools.product(range(im_layer8[1].values.shape[0]), range(im_layer8[1].values.shape[1])):\n",
    "                    if im_layer8[1].values[y,x,3:][0] == 255:\n",
    "                        im_layer8[1].values[y,x] = np.array([255,0,255,255])\n",
    "                    else:\n",
    "                        im_layer8[1].values[y,x] = np.array([0,0,0,0])\n",
    "\n",
    "                im0 = Image.fromarray(im_layer0[1].values)\n",
    "                im1 = Image.fromarray(im_layer1[1].values)\n",
    "                im5 = Image.fromarray(im_layer5[1].values)\n",
    "                im8 = Image.fromarray(im_layer8[1].values)\n",
    "                im0.save(\"zone0.png\")\n",
    "                im1.save(\"zone1.png\")\n",
    "                im5.save(\"zone5.png\")\n",
    "                im8.save(\"zone8.png\")\n",
    "                \n",
    "                \n",
    "                center_image = (xr_bounds(im_layer0[1])[0][0] + xr_bounds(im_layer0[1])[1][0])*0.5, (xr_bounds(im_layer0[1])[0][1] + xr_bounds(im_layer0[1])[1][1])*0.5\n",
    "\n",
    "                m = leafmap.Map(basemap=basemaps.Esri.WorldImagery, center=center_image, zoom=12, \n",
    "                                layout=w.Layout(width='800px', height='500px'), layer_control=True)\n",
    "\n",
    "                image0 = leafmap.ImageOverlay(url=\"zone0.png\", bounds=xr_bounds(im_layer0[1]), name='durum_wheat')\n",
    "                image1 = leafmap.ImageOverlay(url=\"zone1.png\", bounds=xr_bounds(im_layer1[1]), name='soft_wheat')\n",
    "                image5 = leafmap.ImageOverlay(url=\"zone5.png\", bounds=xr_bounds(im_layer5[1]), name='barley')\n",
    "                image8 = leafmap.ImageOverlay(url=\"zone8.png\", bounds=xr_bounds(im_layer8[1]), name='vegetable crops')\n",
    "                m.add_layer(image0)\n",
    "                m.add_layer(image1)\n",
    "                m.add_layer(image5)\n",
    "                m.add_layer(image8)"
   ]
  }
 ],
 "metadata": {
  "kernelspec": {
   "display_name": "Python 3 (ipykernel)",
   "language": "python",
   "name": "python3"
  },
  "language_info": {
   "codemirror_mode": {
    "name": "ipython",
    "version": 3
   },
   "file_extension": ".py",
   "mimetype": "text/x-python",
   "name": "python",
   "nbconvert_exporter": "python",
   "pygments_lexer": "ipython3",
   "version": "3.8.10"
  }
 },
 "nbformat": 4,
 "nbformat_minor": 5
}
