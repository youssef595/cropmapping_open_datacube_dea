{
 "cells": [
  {
   "cell_type": "code",
   "execution_count": 3,
   "id": "26b6bcaa-fadb-47df-92e2-b8685f3991dc",
   "metadata": {},
   "outputs": [],
   "source": [
    "import pandas as pd"
   ]
  },
  {
   "cell_type": "markdown",
   "id": "bfc192bf-0311-4648-8e96-f7a467dc2136",
   "metadata": {},
   "source": [
    "# Note : We keep perennial crops aside"
   ]
  },
  {
   "cell_type": "markdown",
   "id": "f09d6ccd-33ee-45d9-8ee9-86351b12a099",
   "metadata": {},
   "source": [
    "# Custom modeling : cv or nested cross validation"
   ]
  },
  {
   "cell_type": "code",
   "execution_count": 11,
   "id": "bf368da9-1b9f-44b1-9146-2fa556e1edd5",
   "metadata": {},
   "outputs": [],
   "source": [
    "%matplotlib inline\n",
    "\n",
    "import json\n",
    "import os\n",
    "from collections import Counter\n",
    "from pprint import pprint\n",
    "\n",
    "import matplotlib.pyplot as plt\n",
    "import numpy as np\n",
    "import pandas as pd\n",
    "from joblib import dump\n",
    "from odc.io.cgroups import get_cpu_quota\n",
    "from sklearn.base import BaseEstimator, TransformerMixin\n",
    "from sklearn.ensemble import AdaBoostClassifier, RandomForestClassifier\n",
    "from sklearn.metrics import ConfusionMatrixDisplay, balanced_accuracy_score, f1_score\n",
    "from sklearn.model_selection import (\n",
    "    GridSearchCV,\n",
    "    KFold,\n",
    "    ShuffleSplit,\n",
    "    StratifiedKFold,\n",
    "    StratifiedShuffleSplit,\n",
    "    cross_val_score,\n",
    "    cross_validate,\n",
    ")\n",
    "from sklearn.pipeline import Pipeline\n",
    "from sklearn.tree import DecisionTreeClassifier"
   ]
  },
  {
   "cell_type": "code",
   "execution_count": 12,
   "id": "07d44483-1387-4c51-a65f-de8f138fee7c",
   "metadata": {},
   "outputs": [
    {
     "name": "stdout",
     "output_type": "stream",
     "text": [
      "ncpus = 4\n"
     ]
    }
   ],
   "source": [
    "ncpus = round(get_cpu_quota())\n",
    "print(\"ncpus = \" + str(ncpus))"
   ]
  },
  {
   "cell_type": "markdown",
   "id": "448dc9ee-bcaa-4641-9b48-6995d323734b",
   "metadata": {},
   "source": [
    "##### base experiment"
   ]
  },
  {
   "cell_type": "code",
   "execution_count": 9,
   "id": "a24891b1-d9d3-4cc0-befb-5ff6e4d2b994",
   "metadata": {},
   "outputs": [
    {
     "data": {
      "text/plain": [
       "3.0    52870\n",
       "1.0    43264\n",
       "0.0    37300\n",
       "2.0    16734\n",
       "5.0    14245\n",
       "8.0     9531\n",
       "7.0     8869\n",
       "6.0     7824\n",
       "4.0     7722\n",
       "Name: field, dtype: int64"
      ]
     },
     "execution_count": 9,
     "metadata": {},
     "output_type": "execute_result"
    }
   ],
   "source": [
    "model_input = pd.read_parquet('./data/gm_1.parquet')\n",
    "\n",
    "X = model_input.drop('field', axis=1).values\n",
    "y = model_input[['field']].values.ravel()\n",
    "\n",
    "model_input['field'].value_counts()"
   ]
  },
  {
   "cell_type": "code",
   "execution_count": 38,
   "id": "78b7022a-466c-47f8-993c-7729163a3434",
   "metadata": {},
   "outputs": [
    {
     "name": "stdout",
     "output_type": "stream",
     "text": [
      "3.0    10574\n",
      "1.0     8653\n",
      "0.0     7460\n",
      "8.0     5719\n",
      "7.0     5321\n",
      "6.0     4694\n",
      "4.0     4633\n",
      "2.0     3347\n",
      "5.0     2849\n",
      "Name: field, dtype: int64\n",
      "(53250, 37)\n"
     ]
    }
   ],
   "source": [
    "\n",
    "model_input_sampled = model_input[model_input['field'].isin([3,1,0,2,5])].groupby('field').sample(frac=0.2)\n",
    "model_input_non_sampled = model_input[model_input['field'].isin([8, 7, 6, 4])].groupby('field').sample(frac=0.6)\n",
    "print(pd.concat([model_input_sampled, model_input_non_sampled], ignore_index=True)['field'].value_counts())\n",
    "print(pd.concat([model_input_sampled, model_input_non_sampled], ignore_index=True).shape)"
   ]
  },
  {
   "cell_type": "code",
   "execution_count": null,
   "id": "a15fb16a-6a1e-4c11-9ba0-6b5e990e04df",
   "metadata": {},
   "outputs": [],
   "source": [
    "# Create a list to store models\n",
    "models = []\n",
    "\n",
    "\n",
    "\n",
    "model_name = \"RandomForest\"\n",
    "\n",
    "rf_param_grid = {\n",
    "    \"model__class_weight\": [\"balanced\", None],\n",
    "    \"model__max_features\": [\"sqrt\", \"log2\", None],\n",
    "    \"model__n_estimators\": [200, 300, 400],\n",
    "    \"model__criterion\": [\"gini\", \"entropy\"],\n",
    "}\n",
    "\n",
    "models.append((model_name, RandomForestClassifier(n_jobs=1), rf_param_grid))\n",
    "\n",
    "\n",
    "\n",
    "model_name = \"AdaBoostClassifier\"\n",
    "\n",
    "ab_param_grid = {\n",
    "    \"model__base_estimator\": [DecisionTreeClassifier(max_depth=i) for i in [1, 3, 10]],\n",
    "    \"model__n_estimators\": [10, 100, 1000],\n",
    "    \"model__learning_rate\": [0.01, 0.1, 1],\n",
    "}\n",
    "\n",
    "models.append((model_name, AdaBoostClassifier(), ab_param_grid))"
   ]
  }
 ],
 "metadata": {
  "kernelspec": {
   "display_name": "Python 3 (ipykernel)",
   "language": "python",
   "name": "python3"
  },
  "language_info": {
   "codemirror_mode": {
    "name": "ipython",
    "version": 3
   },
   "file_extension": ".py",
   "mimetype": "text/x-python",
   "name": "python",
   "nbconvert_exporter": "python",
   "pygments_lexer": "ipython3",
   "version": "3.8.10"
  }
 },
 "nbformat": 4,
 "nbformat_minor": 5
}
