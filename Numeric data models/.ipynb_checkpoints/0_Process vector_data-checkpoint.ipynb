{
 "cells": [
  {
   "cell_type": "code",
   "execution_count": null,
   "id": "fd0fd7cf-ca63-4960-b467-514da2e73e33",
   "metadata": {},
   "outputs": [],
   "source": [
    "import pandas as pd\n",
    "import geopandas as gpd\n",
    "from shapely.geometry import Polygon\n",
    "from deafrica_tools.plotting import map_shapefile\n",
    "import ast\n",
    "import plotly.graph_objects as go\n",
    "pd.set_option('max_colwidth', -1)"
   ]
  },
  {
   "cell_type": "markdown",
   "id": "72c93eeb-c271-4467-a84c-1ea04abeaa2f",
   "metadata": {
    "tags": []
   },
   "source": [
    "## Crop location excel data processing\n",
    "* Cleaning\n",
    "* Conversion to geodataframe (adding parcel coordinates to Polygon)\n",
    "* Save crop vectors in geojson file"
   ]
  },
  {
   "cell_type": "code",
   "execution_count": null,
   "id": "cb28f29a-badc-4daf-a59b-e4a0796ff62e",
   "metadata": {},
   "outputs": [],
   "source": [
    "crop_vectors.to_file(\"Supplementary_data/crop_vectors.geojson\", driver='GeoJSON')"
   ]
  },
  {
   "cell_type": "code",
   "execution_count": null,
   "id": "afbefc67-cba3-4137-bba1-369b8780e289",
   "metadata": {},
   "outputs": [],
   "source": [
    "crop_vectors = extract_shapefile(data_path = 'mar_referenced_crop.xlsx')\n",
    "crop_vectors_v1 = remove_duplicates(crop_vectors)\n",
    "crop_vectors_v2 = remove_multicrops_polygons(crop_vectors_v1)\n",
    "crop_vectors_v3 = remove_overlapping_polygons(crop_vectors_v2)"
   ]
  },
  {
   "cell_type": "code",
   "execution_count": null,
   "id": "0ed1a585-a191-411e-89ba-c26e752ebb13",
   "metadata": {},
   "outputs": [],
   "source": [
    "crop_vectors_v3.to_file(\"crop_vectors.geojson\", driver='GeoJSON')"
   ]
  }
 ],
 "metadata": {
  "kernelspec": {
   "display_name": "Python 3 (ipykernel)",
   "language": "python",
   "name": "python3"
  },
  "language_info": {
   "codemirror_mode": {
    "name": "ipython",
    "version": 3
   },
   "file_extension": ".py",
   "mimetype": "text/x-python",
   "name": "python",
   "nbconvert_exporter": "python",
   "pygments_lexer": "ipython3",
   "version": "3.8.10"
  }
 },
 "nbformat": 4,
 "nbformat_minor": 5
}
