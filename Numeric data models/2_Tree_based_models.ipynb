{
 "cells": [
  {
   "cell_type": "code",
   "execution_count": 3,
   "id": "26b6bcaa-fadb-47df-92e2-b8685f3991dc",
   "metadata": {},
   "outputs": [],
   "source": [
    "import pandas as pd"
   ]
  },
  {
   "cell_type": "code",
   "execution_count": 4,
   "id": "f09779dc-213d-4bbd-9eb9-23d371ab3679",
   "metadata": {},
   "outputs": [
    {
     "name": "stdout",
     "output_type": "stream",
     "text": [
      "\u001b[33mWARNING: Skipping pycaret as it is not installed.\u001b[0m\n"
     ]
    }
   ],
   "source": [
    "!pip uninstall pycaret"
   ]
  },
  {
   "cell_type": "markdown",
   "id": "f09d6ccd-33ee-45d9-8ee9-86351b12a099",
   "metadata": {},
   "source": [
    "# Custom modeling : cv or nested cross validation"
   ]
  },
  {
   "cell_type": "code",
   "execution_count": null,
   "id": "bf368da9-1b9f-44b1-9146-2fa556e1edd5",
   "metadata": {},
   "outputs": [],
   "source": []
  }
 ],
 "metadata": {
  "kernelspec": {
   "display_name": "Python 3 (ipykernel)",
   "language": "python",
   "name": "python3"
  },
  "language_info": {
   "codemirror_mode": {
    "name": "ipython",
    "version": 3
   },
   "file_extension": ".py",
   "mimetype": "text/x-python",
   "name": "python",
   "nbconvert_exporter": "python",
   "pygments_lexer": "ipython3",
   "version": "3.8.10"
  }
 },
 "nbformat": 4,
 "nbformat_minor": 5
}
