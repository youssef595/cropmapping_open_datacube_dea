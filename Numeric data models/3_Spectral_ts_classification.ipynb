{
 "cells": [
  {
   "cell_type": "code",
   "execution_count": null,
   "id": "10c7aae9-3ca2-4c29-99b4-8bd8d93a3dd2",
   "metadata": {},
   "outputs": [],
   "source": []
  },
  {
   "cell_type": "markdown",
   "id": "f5967ccb-d21a-4ab5-9e04-75fb8611c232",
   "metadata": {},
   "source": [
    "## Overview\n",
    "#### This notebook covers the following points (using sample band weekly ts dataset from september18 to july19 as training data) :\n",
    "- Univariate band Time series classification\n",
    "- Multivariate bands Time series classification\n",
    "- Early band time series classification\n",
    "#### TS data processing key steps :\n",
    "-\n",
    "-\n",
    "-"
   ]
  },
  {
   "cell_type": "markdown",
   "id": "98c8c37d-e25e-4fa9-ab66-32088d7cc571",
   "metadata": {},
   "source": [
    "## Univariate band time series classification"
   ]
  },
  {
   "cell_type": "code",
   "execution_count": null,
   "id": "b7ae397f-4560-45e4-bbef-e24ab06d6eae",
   "metadata": {},
   "outputs": [],
   "source": []
  },
  {
   "cell_type": "markdown",
   "id": "223f6f64-f648-494d-8d10-c43cc305af1c",
   "metadata": {},
   "source": [
    "## Multivariate band time series classification"
   ]
  },
  {
   "cell_type": "code",
   "execution_count": null,
   "id": "36d8be02-faec-4039-80be-a5b0927e3efe",
   "metadata": {},
   "outputs": [],
   "source": []
  },
  {
   "cell_type": "markdown",
   "id": "975f0c55-52c5-439d-9ea8-e3914197eec1",
   "metadata": {},
   "source": [
    "## Early time series classification"
   ]
  },
  {
   "cell_type": "code",
   "execution_count": null,
   "id": "7984f599-6501-4f3e-8f35-22cc67059801",
   "metadata": {},
   "outputs": [],
   "source": []
  }
 ],
 "metadata": {
  "kernelspec": {
   "display_name": "Python 3 (ipykernel)",
   "language": "python",
   "name": "python3"
  },
  "language_info": {
   "codemirror_mode": {
    "name": "ipython",
    "version": 3
   },
   "file_extension": ".py",
   "mimetype": "text/x-python",
   "name": "python",
   "nbconvert_exporter": "python",
   "pygments_lexer": "ipython3",
   "version": "3.8.10"
  }
 },
 "nbformat": 4,
 "nbformat_minor": 5
}
